{
 "cells": [
  {
   "attachments": {},
   "cell_type": "markdown",
   "id": "7af7aa9b",
   "metadata": {},
   "source": [
    "### Step-[1]: At the very beginning"
   ]
  },
  {
   "cell_type": "code",
   "execution_count": 1,
   "id": "e8d3d7ae",
   "metadata": {},
   "outputs": [],
   "source": [
    "#---CFT[0]\n",
    "#Installing recommended libraries\n",
    "# !pip install opencv-python\n",
    "# !pip install easyocr\n",
    "# !pip install tkinter\n",
    "# !pip install matplotlib\n",
    "# !pip install pillow\n",
    "# !pip install pygame\n",
    "# !pip install datetime\n",
    "#---"
   ]
  },
  {
   "cell_type": "code",
   "execution_count": 2,
   "id": "01303dbb",
   "metadata": {},
   "outputs": [],
   "source": [
    "#---CFT[1]\n",
    "#Importing libraries\n",
    "import cv2\n",
    "import easyocr\n",
    "from tkinter import *\n",
    "import tkinter as tk\n",
    "import time\n",
    "#---"
   ]
  },
  {
   "attachments": {},
   "cell_type": "markdown",
   "id": "9d99d339",
   "metadata": {},
   "source": [
    "### Step-[2]: Starting with The Basic GUI\n",
    "\n",
    "#### 2.1: Basic GUI Development"
   ]
  },
  {
   "cell_type": "code",
   "execution_count": 3,
   "id": "6149198e",
   "metadata": {},
   "outputs": [
    {
     "data": {
      "text/plain": [
       "''"
      ]
     },
     "execution_count": 3,
     "metadata": {},
     "output_type": "execute_result"
    }
   ],
   "source": [
    "#---CFT[2]\n",
    "#Basic GUI development\n",
    "root = tk.Tk()\n",
    "root.title(\"Data Scanning Tool\")\n",
    "root.configure(bg=\"gray\")\n",
    "root.resizable(0,0)\n",
    "\n",
    "width = 480\n",
    "height = 480\n",
    "\n",
    "#loaction of the window*****************\n",
    "scr_width = root.winfo_screenwidth()\n",
    "scr_ht = root.winfo_screenheight()\n",
    "xwid = (scr_width/2)-(width/2)\n",
    "ywid = (scr_ht/2)-(height/2)\n",
    "#loaction of the window*****************\n",
    "root.geometry('%dx%d+%d+%d'%(width,height, xwid, ywid))\n",
    "#---\n",
    "# mainloop()"
   ]
  },
  {
   "cell_type": "markdown",
   "id": "76c28335",
   "metadata": {},
   "source": [
    "#### 2.2: Working with Canvas"
   ]
  },
  {
   "cell_type": "code",
   "execution_count": 4,
   "id": "c5b577cb",
   "metadata": {},
   "outputs": [],
   "source": [
    "#---CFT[3]\n",
    "#***********CANVAS-GUI************************************** \n",
    "controlCanvas = Canvas(root, width=480,height=80,bg=\"#a4b2c0\")\n",
    "controlCanvas.pack(anchor='sw', padx=0,pady=0, expand=False, fill=X)\n",
    "\n",
    "msg  = \"                                  Welcome to Data Scanning Tool                                \"\n",
    "helpp = tk.Label(root, text=msg, bg=\"black\", fg=\"yellow\" , font=('Ariel',12,'bold'))\n",
    "helpp.pack(side='top',padx=2,pady=4)\n",
    "\n",
    "canvas2 = Canvas(root, width=480,height=340,bg=\"black\",scrollregion=(0,0,0,0))\n",
    "canvas2.pack(padx=0,pady=0, side='bottom', expand=True, fill=BOTH)\n",
    "\n",
    "#*************************************************\n",
    "#---\n",
    "# mainloop()"
   ]
  },
  {
   "attachments": {},
   "cell_type": "markdown",
   "id": "68f1fd7f",
   "metadata": {},
   "source": [
    "### Step-[3]: Designing Control Panel"
   ]
  },
  {
   "cell_type": "code",
   "execution_count": 5,
   "id": "b4046761",
   "metadata": {},
   "outputs": [],
   "source": [
    "#---CFT[9]\n",
    "#**********************CONTROL-BUTTONS******************************************\n",
    "\n",
    "btn1 = tk.Button(controlCanvas, width=15,height=2, text=\"ADJUST\\nOBJECT\", \n",
    "                command=lambda: [launch_camera()], bg=\"white\", fg=\"blue\", font=('Arial',8,'bold'))\n",
    "btn1.place(relx=0,rely=0, x=20, y=18)\n",
    "\n",
    "btn2 = tk.Button(controlCanvas, width=15,height=2, text=\"SCAN\\nDATA\", \n",
    "                 command=lambda: [scan_data(), restart_pb()], bg=\"white\", fg=\"green\", font=('Arial',8,'bold'))\n",
    "btn2.place(relx=0,rely=0, x=170, y=18)\n",
    "\n",
    "def destroyWin():\n",
    "    root.destroy()\n",
    "    \n",
    "btn3 = tk.Button(controlCanvas, width=15, height=2, text=\"QUIT\", \n",
    "                 command=lambda: [destroyWin()] , bg=\"white\", fg=\"red\", font=('Arial',8,'bold'))\n",
    "btn3.place(relx=0,rely=0, x=330, y=18)\n",
    "\n",
    "#****************************************************************\n",
    "#---\n",
    "# mainloop()"
   ]
  },
  {
   "attachments": {},
   "cell_type": "markdown",
   "id": "21b3cd2d",
   "metadata": {},
   "source": [
    "### Step-[4]: Testing Camera"
   ]
  },
  {
   "cell_type": "code",
   "execution_count": 6,
   "id": "a45f1d2b",
   "metadata": {},
   "outputs": [],
   "source": [
    "#---CFT[6]\n",
    "running = True  # Global flag\n",
    "num = True\n",
    "x = 0\n",
    "\n",
    "def test_camera():\n",
    "    cam = cv2.VideoCapture(0 + cv2.CAP_DSHOW)\n",
    "    WIDTH = cam.set(cv2.CAP_PROP_FRAME_WIDTH, 320)\n",
    "    HEIGHT = cam.set(cv2.CAP_PROP_FRAME_HEIGHT, 280)\n",
    "\n",
    "    (x, y, w, h) = (60,50,180,140)\n",
    "\n",
    "    while(True):\n",
    "        ret, frame = cam.read()\n",
    "        cv2.rectangle(frame, (x,y), (x+w, y+h), (0, 255, 0), 2)\n",
    "\n",
    "        font = cv2.FONT_HERSHEY_DUPLEX\n",
    "\n",
    "        cv2.putText(frame,\"Please press 'q' after\", (46,210), font, 0.6, (255,255,255), 1, cv2.LINE_AA)\n",
    "        cv2.putText(frame,\"adjusting your object.\", (46,232), font, 0.6, (255,255,255), 1, cv2.LINE_AA)\n",
    "        cv2.imshow(\"Adjust Camera\", frame)\n",
    "\n",
    "        if cv2.waitKey(1)&0xFF == ord(\"q\"):\n",
    "            break\n",
    "    cam.release()\n",
    "    cv2.destroyAllWindows()\n",
    "    btn1.config(state='normal')\n",
    "\n",
    "def launch_camera():\n",
    "    print(\"LAUNCH button clicked...\")\n",
    "    time.sleep(0.5)\n",
    "    x = 5\n",
    "    txt = (\"Camera Testing..: {line}\".format(line=x))\n",
    "    btn2.config(state='normal')\n",
    "    btn3.config(state='normal')\n",
    "    btn1.config(state='disabled')\n",
    "    test_camera()\n",
    "#---\n",
    "# mainloop()"
   ]
  },
  {
   "attachments": {},
   "cell_type": "markdown",
   "id": "b748c8df",
   "metadata": {},
   "source": [
    "### Step-[5]: Designing progress bar\n",
    "\n",
    "#### 5.1: Developing Console"
   ]
  },
  {
   "cell_type": "code",
   "execution_count": 7,
   "id": "db5778f7",
   "metadata": {},
   "outputs": [],
   "source": [
    "#---CFT[4]\n",
    "#Adding Scrollbar to Console************\n",
    "mylist = Listbox(canvas2, width=720, height=320)\n",
    "\n",
    "vbar = Scrollbar(mylist, orient='vertical')\n",
    "vbar.pack(side=RIGHT, fill=Y)\n",
    "vbar.config(command=mylist.yview)\n",
    "\n",
    "mylist.config(fg='yellow',bg='black', font=('Arial',12,'bold'), yscrollcommand=vbar.set)\n",
    "mylist.pack(side=BOTTOM, anchor='n', expand=True, fill=BOTH, padx=8, pady=5)\n",
    "#---"
   ]
  },
  {
   "cell_type": "markdown",
   "id": "792dd292",
   "metadata": {},
   "source": [
    "#### 5.2: Commands"
   ]
  },
  {
   "cell_type": "code",
   "execution_count": 8,
   "id": "5939a304",
   "metadata": {},
   "outputs": [],
   "source": [
    "#---CFT[5]\n",
    "#Commands*****************\n",
    "def insertData(data):\n",
    "    global mylist\n",
    "    mylist.insert(END, str(data))\n",
    "    mylist.insert(END,\"\")\n",
    "\n",
    "def dscan():\n",
    "    reader = easyocr.Reader(['en'], gpu=False)\n",
    "    return reader\n",
    "\n",
    "def quitt():\n",
    "    print(\"QUIT button clicked...\")\n",
    "    time.sleep(0.5)\n",
    "    btn1.config(state='normal')\n",
    "    btn2.config(state='normal')\n",
    "    btn3.config(state='disabled')\n",
    "\n",
    "def destroyWin():\n",
    "    root.destroy()\n",
    "#---"
   ]
  },
  {
   "attachments": {},
   "cell_type": "markdown",
   "id": "9db28176",
   "metadata": {},
   "source": [
    "#### 5.3: Progress Bar"
   ]
  },
  {
   "cell_type": "code",
   "execution_count": 9,
   "id": "8da090dc",
   "metadata": {},
   "outputs": [],
   "source": [
    "#---CFT[7]\n",
    "#****************************Progress Bar*************************\n",
    "\n",
    "status = Label(mylist, text=\"S c a n n i n g . . .\",bg=\"black\",fg=\"#00f900\", font = ('Arial',12,'bold'))\n",
    "\n",
    "c1 = tk.Canvas(mylist, width=300, height=25, bg=\"black\", highlightthickness=0, bd=0)\n",
    "t = Listbox(mylist,width=6,height=1,bg=\"black\", fg=\"#00f900\",highlightthickness=0,font = ('Arial',12,'bold'), bd=0)\n",
    "\n",
    "x1=5\n",
    "y1=0\n",
    "x2=20 #width/2\n",
    "y2=30 #height/2\n",
    "value = 0\n",
    "running = True\n",
    "\n",
    "def clear_screen():\n",
    "    global x2, value, c1,status\n",
    "    \n",
    "    c1.configure(width=0,height=0)\n",
    "    status.configure(text=\"\",width=0,height=0)\n",
    "    c1.pack(side=LEFT, anchor='nw', padx=0,pady=0)\n",
    "    t.configure(width=0,height=0)\n",
    "    #t.insert(0,\"\")\n",
    "    t.pack(side=RIGHT, anchor='se', padx=0, pady=0)\n",
    "    status.pack(side=BOTTOM,anchor='s',padx=0,pady=0)\n",
    "\n",
    "    c1.delete('all')\n",
    "    t.delete(0,END)\n",
    "    x2 = 0\n",
    "    \n",
    "def progress_bar():\n",
    "    global x1,y1,x2,y2, value, running,status\n",
    "\n",
    "    limit = 300\n",
    "    status.configure(text=\"S c a n n i n g . . .\",bg=\"black\",fg=\"#00f900\")\n",
    "    status.pack(side=TOP,anchor='nw', padx=20,pady=40)\n",
    "    c1.configure(width=300,height=25, bg=\"black\")\n",
    "    c1.create_rectangle(x1, y1, x2,y2,fill=\"#00f900\")\n",
    "    c1.pack(side =LEFT, anchor='nw', padx=0,pady=0)\n",
    "    t.configure(width=6,height=1)\n",
    "    t.insert(0,str(round(value))+\"%\")\n",
    "    x2 += 10\n",
    "    value += 3.4\n",
    "   \n",
    "    if (x2<=(limit)):\n",
    "        c1.after(100,progress_bar)\n",
    "    else:\n",
    "        running = True\n",
    "        detection(running)\n",
    "        clear_screen()\n",
    "    \n",
    "def restart_pb():\n",
    "    global x2, value,status,t\n",
    "    t.delete(0,END)\n",
    "    value = 0\n",
    "    c1.delete('all')\n",
    "    mylist.delete(0,END)\n",
    "    x2 = 0\n",
    "    status.pack(side=TOP,anchor='nw',padx=20,pady=40)\n",
    "    t.pack(side=LEFT, anchor='nw', padx=20, pady=0)\n",
    "    time.sleep(0.3)\n",
    "    progress_bar()\n",
    "\n",
    "\n",
    "def scan_data():\n",
    "    print('Scanning is in process...')\n",
    "    time.sleep(1)\n",
    "    btn1.config(state='normal')\n",
    "    btn3.config(state='normal')\n",
    "    btn2.config(state='disabled')\n",
    "    time.sleep(0.5)\n",
    "    global running\n",
    "    running = True\n",
    "#******************************************\n",
    "\n",
    "#---\n",
    "# mainloop()"
   ]
  },
  {
   "attachments": {},
   "cell_type": "markdown",
   "id": "ad8d64b3",
   "metadata": {},
   "source": [
    "### Step-[6]: Detection on Process"
   ]
  },
  {
   "cell_type": "code",
   "execution_count": 10,
   "id": "2af5bbac",
   "metadata": {},
   "outputs": [],
   "source": [
    "#---CFT[8]\n",
    "def detection(running):\n",
    "    r = 0;\n",
    "    s = 0;\n",
    "    reader = dscan()\n",
    "    \n",
    "    cam = cv2.VideoCapture(0 + cv2.CAP_DSHOW)\n",
    "\n",
    "    WIDTH = cam.get(cv2.CAP_PROP_FRAME_WIDTH)\n",
    "    HEIGHT = cam.get(cv2.CAP_PROP_FRAME_HEIGHT) \n",
    "    width = 320\n",
    "    height = 140\n",
    "\n",
    "    cam.set(cv2.CAP_PROP_FRAME_WIDTH, width)\n",
    "    cam.set(cv2.CAP_PROP_FRAME_HEIGHT, height)\n",
    "    \n",
    "    (x, y, w, h) = (60,50,180,140)\n",
    "    \n",
    "    reader = easyocr.Reader(['en'], gpu=False)\n",
    "    \n",
    "    def found():\n",
    "        insertData(\"RESULT FOUND!\")\n",
    "    def notFound():\n",
    "        insertData(\"DATA NOT FOUND!\")\n",
    "        \n",
    "    time.sleep(1)\n",
    "    phNoCheck = 0\n",
    "    \n",
    "    while(running):\n",
    "        r += 1\n",
    "        s += 1\n",
    "        \n",
    "        ret, frame = cam.read()\n",
    "        frame = frame[y:y+h, x:x+w] \n",
    "        img_gray = cv2.cvtColor(frame, cv2.COLOR_BGR2GRAY)\n",
    "        result = reader.readtext(img_gray)\n",
    "       \n",
    "        if s<2:\n",
    "            if (len(result) != 0):\n",
    "                found()\n",
    "            else:\n",
    "                notFound()\n",
    "        img_gray = cv2.cvtColor(frame, cv2.COLOR_BGR2RGB)\n",
    "        \n",
    "        for detection in result:\n",
    "            top_left = tuple([int(val) for val in detection[0][0]])\n",
    "            bottom_right = tuple([int (val) for val in detection[0][2]])\n",
    "            \n",
    "            text = detection[1]\n",
    "            \n",
    "            if r<2:\n",
    "                insertData(text)\n",
    "                print(text, end=\"\\n\\n\")\n",
    "                phNoCheck = text\n",
    "          \n",
    "            if text != \"\":\n",
    "                color = (0,255,0)\n",
    "            else:\n",
    "                color = (0,0,255)\n",
    "         \n",
    "            cv2.rectangle(img_gray, top_left, bottom_right, color,2)\n",
    "            \n",
    "        font = cv2.FONT_HERSHEY_DUPLEX\n",
    "        extendedFrame = cv2.resize(img_gray,(320,280))\n",
    "        cv2.putText(extendedFrame,\"Please press 'p' to print result.\", (6,260), font, 0.6, (255,255,255), 1, cv2.LINE_AA)\n",
    "        cv2.imshow('CRW', extendedFrame)\n",
    "        \n",
    "        if cv2.waitKey(1) & 0xFF == ord('p'):\n",
    "            break\n",
    "        \n",
    "    cam.release()\n",
    "    cv2.destroyAllWindows()\n",
    "    btn2.configure(state='normal')\n",
    "\n",
    "#---"
   ]
  },
  {
   "cell_type": "code",
   "execution_count": 11,
   "id": "b05a07e6",
   "metadata": {
    "collapsed": true
   },
   "outputs": [
    {
     "name": "stdout",
     "output_type": "stream",
     "text": [
      "LAUNCH button clicked...\n",
      "Scanning is in process...\n"
     ]
    },
    {
     "name": "stderr",
     "output_type": "stream",
     "text": [
      "Using CPU. Note: This module is much faster with a GPU.\n",
      "Using CPU. Note: This module is much faster with a GPU.\n"
     ]
    },
    {
     "name": "stdout",
     "output_type": "stream",
     "text": [
      "Scanning is in process...\n"
     ]
    },
    {
     "name": "stderr",
     "output_type": "stream",
     "text": [
      "Using CPU. Note: This module is much faster with a GPU.\n",
      "Using CPU. Note: This module is much faster with a GPU.\n"
     ]
    },
    {
     "name": "stdout",
     "output_type": "stream",
     "text": [
      "LAUNCH button clicked...\n",
      "Scanning is in process...\n"
     ]
    },
    {
     "name": "stderr",
     "output_type": "stream",
     "text": [
      "Using CPU. Note: This module is much faster with a GPU.\n",
      "Using CPU. Note: This module is much faster with a GPU.\n"
     ]
    },
    {
     "name": "stdout",
     "output_type": "stream",
     "text": [
      "AIM\n",
      "\n"
     ]
    }
   ],
   "source": [
    "#---CFTE[10]\n",
    "mainloop()\n",
    "\n",
    "#---"
   ]
  },
  {
   "cell_type": "code",
   "execution_count": null,
   "id": "c6658f5c",
   "metadata": {},
   "outputs": [],
   "source": []
  }
 ],
 "metadata": {
  "kernelspec": {
   "display_name": "charReg",
   "language": "python",
   "name": "python3"
  },
  "language_info": {
   "codemirror_mode": {
    "name": "ipython",
    "version": 3
   },
   "file_extension": ".py",
   "mimetype": "text/x-python",
   "name": "python",
   "nbconvert_exporter": "python",
   "pygments_lexer": "ipython3",
   "version": "3.9.13"
  },
  "vscode": {
   "interpreter": {
    "hash": "8247a2a7b0455d4b01d907dc884eca9b0d1aa163efea170734d672b3092fb821"
   }
  }
 },
 "nbformat": 4,
 "nbformat_minor": 5
}
